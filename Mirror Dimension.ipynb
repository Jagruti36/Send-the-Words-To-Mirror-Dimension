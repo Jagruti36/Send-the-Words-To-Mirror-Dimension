{
 "cells": [
  {
   "cell_type": "code",
   "execution_count": 1,
   "id": "c8087240",
   "metadata": {},
   "outputs": [
    {
     "name": "stdout",
     "output_type": "stream",
     "text": [
      "Please enter your String : Edyoda\n",
      "\n",
      "The Original String is:  Edyoda\n",
      "The Reversed String is:  adoydE\n"
     ]
    }
   ],
   "source": [
    "my_str = input(\"Please enter your String : \")\n",
    "str = ''\n",
    "for i in my_str:\n",
    "    str = i + str\n",
    "print(\"\\nThe Original String is: \", my_str)\n",
    "print(\"The Reversed String is: \", str)"
   ]
  },
  {
   "cell_type": "code",
   "execution_count": null,
   "id": "f9785172",
   "metadata": {},
   "outputs": [],
   "source": []
  }
 ],
 "metadata": {
  "kernelspec": {
   "display_name": "Python 3",
   "language": "python",
   "name": "python3"
  },
  "language_info": {
   "codemirror_mode": {
    "name": "ipython",
    "version": 3
   },
   "file_extension": ".py",
   "mimetype": "text/x-python",
   "name": "python",
   "nbconvert_exporter": "python",
   "pygments_lexer": "ipython3",
   "version": "3.8.8"
  }
 },
 "nbformat": 4,
 "nbformat_minor": 5
}
